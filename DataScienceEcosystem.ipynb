{
  "cells": [
    {
      "cell_type": "markdown",
      "metadata": {
        "id": "a2P2NeNGRdmD"
      },
      "source": [
        "#**Data Science Tools and Ecosystem**"
      ]
    },
    {
      "cell_type": "markdown",
      "metadata": {
        "id": "iMhHj-DlSPGj"
      },
      "source": [
        "In this notebook, Data Science Tools and Ecosystem are summarized."
      ]
    },
    {
      "cell_type": "markdown",
      "metadata": {
        "id": "XVfRX4r1SSFH"
      },
      "source": [
        "###**Some of the popular languages that Data Scientists use are:**\n",
        "1. Python\n",
        "2. R\n",
        "3. Julia"
      ]
    },
    {
      "cell_type": "markdown",
      "metadata": {
        "id": "sclInBGkTt5f"
      },
      "source": [
        "###**Some of the commonly used libraries used by Data Scientists include:**\n",
        "1. Numpy\n",
        "2. Pandas\n",
        "3. Plotly\n",
        "4. Matplotlib"
      ]
    },
    {
      "cell_type": "markdown",
      "metadata": {
        "id": "pyy6UKXbU9FV"
      },
      "source": [
        "|<h3>**Data Science Tools**</h3>|\n",
        "|-----|\n",
        "|Jupyter Notebook|\n",
        "|Rstudio|\n",
        "|VScode|"
      ]
    },
    {
      "cell_type": "markdown",
      "metadata": {
        "id": "YKZzYnBYWBO7"
      },
      "source": [
        "###**Below are a few examples of evaluating arithmetic expressions in Python**"
      ]
    },
    {
      "cell_type": "code",
      "execution_count": 5,
      "metadata": {
        "colab": {
          "base_uri": "https://localhost:8080/"
        },
        "id": "cQ_efmc7XHeg",
        "outputId": "14eb9b65-bb33-4c46-cbf8-2fcafe49208e"
      },
      "outputs": [
        {
          "data": {
            "text/plain": [
              "17"
            ]
          },
          "execution_count": 5,
          "metadata": {},
          "output_type": "execute_result"
        }
      ],
      "source": [
        "#This a simple arithmetic expression to mutiply then add integers\n",
        "(3*4)+5"
      ]
    },
    {
      "cell_type": "code",
      "execution_count": 12,
      "metadata": {
        "colab": {
          "base_uri": "https://localhost:8080/"
        },
        "id": "eD4GPPSYXfKN",
        "outputId": "14d53425-0dec-4e1f-9dfb-6b701f729d48"
      },
      "outputs": [
        {
          "name": "stdout",
          "output_type": "stream",
          "text": [
            "200 minutes =  3.3333333333333335  hours\n"
          ]
        }
      ],
      "source": [
        "#This will convert 200 minutes to hours by diving by 60\n",
        "print(\"200 minutes = \", 200/60, \" hours\")"
      ]
    },
    {
      "cell_type": "markdown",
      "metadata": {
        "id": "yGcwu5ELYuu_"
      },
      "source": [
        "###**Objectives:**\n",
        "- List popular languages for Data Science\n",
        "- List commonly used libraries\n",
        "- Open source data science tools\n",
        "- Markdown examples\n",
        "- Python arithmatic examples"
      ]
    },
    {
      "cell_type": "markdown",
      "metadata": {
        "id": "SllzW6j8Z91Z"
      },
      "source": [
        "##Author\n",
        "\n",
        "Sumanta Mukherjee"
      ]
    },
    {
      "cell_type": "code",
      "execution_count": null,
      "metadata": {
        "id": "uH53ImSeXpjh"
      },
      "outputs": [],
      "source": []
    }
  ],
  "metadata": {
    "colab": {
      "provenance": []
    },
    "kernelspec": {
      "display_name": "Python 3",
      "name": "python3"
    },
    "language_info": {
      "name": "python"
    }
  },
  "nbformat": 4,
  "nbformat_minor": 0
}
